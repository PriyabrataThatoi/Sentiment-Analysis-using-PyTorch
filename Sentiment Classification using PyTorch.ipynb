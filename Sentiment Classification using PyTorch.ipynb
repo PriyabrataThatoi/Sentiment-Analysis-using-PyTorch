{
  "nbformat": 4,
  "nbformat_minor": 0,
  "metadata": {
    "kernelspec": {
      "name": "python3",
      "display_name": "Python 3"
    },
    "language_info": {
      "codemirror_mode": {
        "name": "ipython",
        "version": 3
      },
      "file_extension": ".py",
      "mimetype": "text/x-python",
      "name": "python",
      "nbconvert_exporter": "python",
      "pygments_lexer": "ipython3",
      "version": "3.6.8"
    },
    "colab": {
      "name": "N_GRAM Model (Text Classification).ipynb",
      "provenance": [],
      "collapsed_sections": [
        "IKsZLeZSlypn",
        "dUyHxLnnlyp8"
      ]
    },
    "accelerator": "GPU"
  },
  "cells": [
    {
      "cell_type": "markdown",
      "metadata": {
        "id": "aNP_JOiZlyok",
        "colab_type": "text"
      },
      "source": [
        "# Sentiment Classification of Movie Reviews using N-Gram Modeling\n",
        "\n",
        "![sentiment](https://user-images.githubusercontent.com/54467567/74287111-d3596500-4cee-11ea-9344-77ad2d16d04f.jpg)\n",
        "\n",
        "\n",
        "\n",
        "## Natural Language Processing using Google Colab\n",
        "\n",
        "\n",
        "Steps\n",
        "1. NLP text pre-processing\n",
        "2. Split of training, validation and testing datasets\n",
        "3. How to build a simple feed-forward neural net classifier using PyTorch \n",
        "4. Training the model and the balance of Under-fitting v.s. Over-fitting\n",
        "5. BoW and TF-IDF text classifier "
      ]
    },
    {
      "cell_type": "code",
      "metadata": {
        "id": "Ola7CVcImmxA",
        "colab_type": "code",
        "colab": {
          "base_uri": "https://localhost:8080/",
          "height": 34
        },
        "outputId": "0c7f4025-5e74-4988-f8a5-769994919377"
      },
      "source": [
        "! pip install pyprind"
      ],
      "execution_count": 1,
      "outputs": [
        {
          "output_type": "stream",
          "text": [
            "Requirement already satisfied: pyprind in /usr/local/lib/python3.6/dist-packages (2.11.2)\n"
          ],
          "name": "stdout"
        }
      ]
    },
    {
      "cell_type": "code",
      "metadata": {
        "id": "UuROQhfIBO28",
        "colab_type": "code",
        "colab": {
          "base_uri": "https://localhost:8080/",
          "height": 51
        },
        "outputId": "5b7791a2-c59f-46c6-8042-7f7901d8df88"
      },
      "source": [
        "!pip install nltk"
      ],
      "execution_count": 2,
      "outputs": [
        {
          "output_type": "stream",
          "text": [
            "Requirement already satisfied: nltk in /usr/local/lib/python3.6/dist-packages (3.2.5)\n",
            "Requirement already satisfied: six in /usr/local/lib/python3.6/dist-packages (from nltk) (1.12.0)\n"
          ],
          "name": "stdout"
        }
      ]
    },
    {
      "cell_type": "code",
      "metadata": {
        "id": "7bvjXgEoKKGJ",
        "colab_type": "code",
        "colab": {
          "base_uri": "https://localhost:8080/",
          "height": 34
        },
        "outputId": "f7939ac2-b915-4c7d-ca39-820139674977"
      },
      "source": [
        "! pip install tqdm --upgrade"
      ],
      "execution_count": 3,
      "outputs": [
        {
          "output_type": "stream",
          "text": [
            "Requirement already up-to-date: tqdm in /usr/local/lib/python3.6/dist-packages (4.42.1)\n"
          ],
          "name": "stdout"
        }
      ]
    },
    {
      "cell_type": "code",
      "metadata": {
        "id": "tUKAYWOmlyom",
        "colab_type": "code",
        "colab": {
          "base_uri": "https://localhost:8080/",
          "height": 136
        },
        "outputId": "97f86dfd-1ad4-4bbd-f79f-07814d550ac9"
      },
      "source": [
        "import tarfile\n",
        "import os\n",
        "import pyprind\n",
        "import pandas as pd\n",
        "import numpy as np\n",
        "import re\n",
        "import nltk\n",
        "from pathlib import Path\n",
        "from google_drive_downloader import GoogleDriveDownloader as gdd\n",
        "from functools import partial\n",
        "from collections import Counter \n",
        "from tqdm import tqdm, tqdm_notebook\n",
        "nltk.download('punkt')\n",
        "tqdm.pandas()\n",
        "########### TOKENIZATIN ############\n",
        "from sklearn.feature_extraction.text import TfidfVectorizer\n",
        "from nltk.util import ngrams\n",
        "from nltk.tokenize import wordpunct_tokenize\n",
        "\n",
        "########### STEMMING ###############\n",
        "import nltk\n",
        "from nltk.stem.porter import PorterStemmer\n",
        "porter = PorterStemmer()\n",
        "\n",
        "########### STOPWORDS ##############\n",
        "nltk.download('stopwords')\n",
        "from nltk.corpus import stopwords\n",
        "\n",
        "########### LEMMATIZATION ##########\n",
        "from nltk.stem import WordNetLemmatizer\n",
        "lemmatizer = WordNetLemmatizer()\n",
        "nltk.download('wordnet')\n",
        "\n",
        "########### LDA ####################\n",
        "from sklearn.decomposition import LatentDirichletAllocation\n",
        "\n",
        "########### TEST & TRAIN SPLIT #####\n",
        "from sklearn.model_selection import train_test_split\n",
        "\n",
        "########### LOGISTIC REGRESSION #####\n",
        "from sklearn.linear_model import LogisticRegression\n",
        "\n",
        "########## PYTORCH ##################\n",
        "import torch\n",
        "import torch.nn as nn\n",
        "import torch.nn.functional as F\n",
        "from torch import optim\n",
        "from torch.optim.lr_scheduler import CosineAnnealingLR\n",
        "from torch.utils.data import Dataset, DataLoader\n",
        "from torch.utils.data.dataset import random_split\n",
        "\n",
        "########## PLOT ####################\n",
        "import matplotlib.pyplot as plt\n",
        "from sklearn.metrics import classification_report\n",
        "from IPython.core.display import display, HTML\n",
        "\n",
        "device = torch.device('cuda' if torch.cuda.is_available() else 'cpu')\n",
        "device"
      ],
      "execution_count": 59,
      "outputs": [
        {
          "output_type": "stream",
          "text": [
            "[nltk_data] Downloading package punkt to /root/nltk_data...\n",
            "[nltk_data]   Package punkt is already up-to-date!\n",
            "[nltk_data] Downloading package stopwords to /root/nltk_data...\n",
            "[nltk_data]   Package stopwords is already up-to-date!\n",
            "[nltk_data] Downloading package wordnet to /root/nltk_data...\n",
            "[nltk_data]   Package wordnet is already up-to-date!\n"
          ],
          "name": "stdout"
        },
        {
          "output_type": "execute_result",
          "data": {
            "text/plain": [
              "device(type='cuda')"
            ]
          },
          "metadata": {
            "tags": []
          },
          "execution_count": 59
        }
      ]
    },
    {
      "cell_type": "markdown",
      "metadata": {
        "id": "7n5SqKwplyos",
        "colab_type": "text"
      },
      "source": [
        "### File Loading"
      ]
    },
    {
      "cell_type": "code",
      "metadata": {
        "id": "tiP8eG9xmcew",
        "colab_type": "code",
        "colab": {}
      },
      "source": [
        "# Downloading the file from GoogleDrive\n",
        "DATA_PATH = 'data/imdb_reviews.csv'\n",
        "if not Path(DATA_PATH).is_file():\n",
        "    gdd.download_file_from_google_drive(\n",
        "        file_id='1zfM5E6HvKIe7f3rEt1V2gBpw5QOSSKQz',\n",
        "        dest_path=DATA_PATH,\n",
        "    )"
      ],
      "execution_count": 0,
      "outputs": []
    },
    {
      "cell_type": "code",
      "metadata": {
        "id": "IjiHumDOlyo3",
        "colab_type": "code",
        "colab": {
          "base_uri": "https://localhost:8080/",
          "height": 204
        },
        "outputId": "ede9451c-1fc4-4790-ded9-124c3ec4b865"
      },
      "source": [
        "df = pd.read_csv(DATA_PATH)\n",
        "df.sample(5)"
      ],
      "execution_count": 8,
      "outputs": [
        {
          "output_type": "execute_result",
          "data": {
            "text/html": [
              "<div>\n",
              "<style scoped>\n",
              "    .dataframe tbody tr th:only-of-type {\n",
              "        vertical-align: middle;\n",
              "    }\n",
              "\n",
              "    .dataframe tbody tr th {\n",
              "        vertical-align: top;\n",
              "    }\n",
              "\n",
              "    .dataframe thead th {\n",
              "        text-align: right;\n",
              "    }\n",
              "</style>\n",
              "<table border=\"1\" class=\"dataframe\">\n",
              "  <thead>\n",
              "    <tr style=\"text-align: right;\">\n",
              "      <th></th>\n",
              "      <th>review</th>\n",
              "      <th>label</th>\n",
              "    </tr>\n",
              "  </thead>\n",
              "  <tbody>\n",
              "    <tr>\n",
              "      <th>60182</th>\n",
              "      <td>I really can't remember who recommended this, ...</td>\n",
              "      <td>1</td>\n",
              "    </tr>\n",
              "    <tr>\n",
              "      <th>9090</th>\n",
              "      <td>This is one of the worst films i've ever seen,...</td>\n",
              "      <td>0</td>\n",
              "    </tr>\n",
              "    <tr>\n",
              "      <th>32956</th>\n",
              "      <td>Well. this was not a surprise. many people wil...</td>\n",
              "      <td>0</td>\n",
              "    </tr>\n",
              "    <tr>\n",
              "      <th>49196</th>\n",
              "      <td>Deeply emotional. It can't leave you neutral.&lt;...</td>\n",
              "      <td>1</td>\n",
              "    </tr>\n",
              "    <tr>\n",
              "      <th>60092</th>\n",
              "      <td>Greetings again from the darkness. What ever h...</td>\n",
              "      <td>0</td>\n",
              "    </tr>\n",
              "  </tbody>\n",
              "</table>\n",
              "</div>"
            ],
            "text/plain": [
              "                                                  review  label\n",
              "60182  I really can't remember who recommended this, ...      1\n",
              "9090   This is one of the worst films i've ever seen,...      0\n",
              "32956  Well. this was not a surprise. many people wil...      0\n",
              "49196  Deeply emotional. It can't leave you neutral.<...      1\n",
              "60092  Greetings again from the darkness. What ever h...      0"
            ]
          },
          "metadata": {
            "tags": []
          },
          "execution_count": 8
        }
      ]
    },
    {
      "cell_type": "code",
      "metadata": {
        "id": "ZjahfJaClyo7",
        "colab_type": "code",
        "colab": {
          "base_uri": "https://localhost:8080/",
          "height": 34
        },
        "outputId": "a6c9da08-64a1-4c4a-dc57-f18d5d62811b"
      },
      "source": [
        "# Shuffling & re-indexing the data\n",
        "np.random.seed(0)\n",
        "df = df.reindex(np.random.permutation(df.index))\n",
        "print(df.shape)"
      ],
      "execution_count": 9,
      "outputs": [
        {
          "output_type": "stream",
          "text": [
            "(62155, 2)\n"
          ],
          "name": "stdout"
        }
      ]
    },
    {
      "cell_type": "markdown",
      "metadata": {
        "id": "xJaEYgjSlypA",
        "colab_type": "text"
      },
      "source": [
        "# Process of performing sentiment analysis :\n",
        "![model](https://user-images.githubusercontent.com/54467567/68970713-89271d00-07ad-11ea-87d2-e5d55344a31c.PNG)\n",
        "\n",
        "reference : https://www.datacamp.com/community/tutorials/text-analytics-beginners-nltk\n",
        "\n",
        "**Text Characteristics**"
      ]
    },
    {
      "cell_type": "code",
      "metadata": {
        "scrolled": false,
        "id": "ZS9QKovvlypC",
        "colab_type": "code",
        "colab": {
          "base_uri": "https://localhost:8080/",
          "height": 224
        },
        "outputId": "6d276a80-69aa-4096-917f-700d7b41f923"
      },
      "source": [
        "print('Number of records:', len(df), '\\n')\n",
        "print('Number of positive reviews:', len(df[df.label == 1]))\n",
        "print('Number of negative reviews:', len(df[df.label == 0]), '\\n')\n",
        "\n",
        "print('Example negative review:')\n",
        "print(df.loc[55,].review, '\\n')\n",
        "print('Example positive review:')\n",
        "print(df.loc[12361,].review, '\\n')"
      ],
      "execution_count": 10,
      "outputs": [
        {
          "output_type": "stream",
          "text": [
            "Number of records: 62155 \n",
            "\n",
            "Number of positive reviews: 30870\n",
            "Number of negative reviews: 31285 \n",
            "\n",
            "Example negative review:\n",
            "Seeing this film for the first time twenty years after its release I don't quite get it. Why has this been such a huge hit in 1986? Its amateurishness drips from every scene. The jokes are lame and predictable. The sex scenes are exploitative and over the top (that is not to say that Miss Rudnik does not have nice boobs!). The singing is \"schrecklich\". The only genuinely funny scene is the big shoot out when the gangsters die break dancing, a trait that dates the movie firmly to the mid-eighties. It's really quite puzzling to me how incapable I am to grasp what evoked the enthusiasm of the cheering audiences in 1986 (and apparently still today, reading my fellow IMDBers comments). \n",
            "\n",
            "Example positive review:\n",
            "I went and saw this movie last night after being coaxed to by a few friends of mine. I'll admit that I was reluctant to see it because from what I knew of Ashton Kutcher he was only able to do comedy. I was wrong. Kutcher played the character of Jake Fischer very well, and Kevin Costner played Ben Randall with such professionalism. The sign of a good movie is that it can toy with our emotions. This one did exactly that. The entire theater (which was sold out) was overcome by laughter during the first half of the movie, and were moved to tears during the second half. While exiting the theater I not only saw many women in tears, but many full grown men as well, trying desperately not to let anyone see them crying. This movie was great, and I suggest that you go see it before you judge. \n",
            "\n"
          ],
          "name": "stdout"
        }
      ]
    },
    {
      "cell_type": "markdown",
      "metadata": {
        "id": "1cfz03iLoUoE",
        "colab_type": "text"
      },
      "source": [
        "## Preprocess Text\n",
        "\n",
        "* Replace weird characters\n",
        "* Lowercase\n",
        "* Tokenize \n",
        "* Stemming & Lemmatize\n",
        "* Remove stopwords\n",
        "* Build index"
      ]
    },
    {
      "cell_type": "code",
      "metadata": {
        "id": "0J-57dQvpqEr",
        "colab_type": "code",
        "colab": {}
      },
      "source": [
        "def remove_rare_words(tokens, common_tokens, max_len):\n",
        "    return [token if token in common_tokens else '<UNK>' for token in tokens][-max_len:]\n",
        "\n",
        "def replace_numbers(tokens):\n",
        "    return [re.sub(r'[0-9]+', '<NUM>', token) for token in tokens]\n",
        "\n",
        "def tokenize(text, stop_words, lemmatizer):\n",
        "    text = re.sub(r'[^\\w\\s]', '', text) # remove special characters\n",
        "    text = text.lower() # lowercase\n",
        "    tokens = wordpunct_tokenize(text) # tokenize\n",
        "    tokens = [lemmatizer.lemmatize(token) for token in tokens] # noun lemmatizer\n",
        "    tokens = [lemmatizer.lemmatize(token, \"v\") for token in tokens] # verb lemmatizer\n",
        "    tokens = [token for token in tokens if token not in stop_words] # remove stopwords\n",
        "    return tokens\n",
        "\n",
        "def build_bow_vector(sequence, idx2token):\n",
        "    vector = [0] * len(idx2token)\n",
        "    for token_idx in sequence:\n",
        "        if token_idx not in idx2token:\n",
        "            raise ValueError('Wrong sequence index found!')\n",
        "        else:\n",
        "            vector[token_idx] += 1\n",
        "    return vector"
      ],
      "execution_count": 0,
      "outputs": []
    },
    {
      "cell_type": "code",
      "metadata": {
        "id": "5wILV-NbrbnK",
        "colab_type": "code",
        "colab": {}
      },
      "source": [
        "# Set parameters\n",
        "\n",
        "MAX_LEN = 128 #@param [64, 256, 512, 1024] {allow-input: true}\n",
        "#the maximum of words per review\n",
        "MAX_VOCAB = 1000 #@param [1000, 5000, 10000, 100000] {allow-input: true} "
      ],
      "execution_count": 0,
      "outputs": []
    },
    {
      "cell_type": "code",
      "metadata": {
        "id": "j81qmwk4reRF",
        "colab_type": "code",
        "colab": {}
      },
      "source": [
        "class ImdbDataset(Dataset):\n",
        "    def __init__(self, data_path, max_vocab=5000, max_len=128):\n",
        "        df = pd.read_csv(data_path)\n",
        "        \n",
        "        print(df.shape)\n",
        "        # Clean and tokenize\n",
        "        stop_words = set(stopwords.words('english'))\n",
        "        lemmatizer = WordNetLemmatizer()\n",
        "        df['tokens'] = df.review.apply(\n",
        "            partial(\n",
        "                tokenize,\n",
        "                stop_words=stop_words,\n",
        "                lemmatizer=lemmatizer\n",
        "            ),\n",
        "        )  \n",
        "        \n",
        "        all_tokens = [token for doc in list(df.tokens) for token in doc]\n",
        "        \n",
        "        # Build most common tokens bound by max vocab size\n",
        "        common_tokens = set( \n",
        "            list(\n",
        "                zip(*Counter(all_tokens).most_common(max_vocab))\n",
        "            )[0] \n",
        "        )\n",
        "\n",
        "        # Replace rare words with <UNK>\n",
        "        df.loc[:, 'tokens'] = df.tokens.progress_apply(\n",
        "            partial(\n",
        "                remove_rare_words,\n",
        "                common_tokens=common_tokens,\n",
        "                max_len=max_len,\n",
        "            ),\n",
        "        )\n",
        "        \n",
        "        # Replace numbers with <NUM>\n",
        "        df.loc[:, 'tokens'] = df.tokens.progress_apply(replace_numbers)\n",
        "        \n",
        "        # Remove sequences with only <UNK>\n",
        "        df = df[df.tokens.progress_apply(\n",
        "            lambda tokens: any(token != '<UNK>' for token in tokens),\n",
        "        )]\n",
        "        \n",
        "        # Build vocab\n",
        "        vocab = sorted(set(\n",
        "            token for doc in list(df.tokens) for token in doc\n",
        "        ))\n",
        "        self.token2idx = {token: idx for idx, token in enumerate(vocab)}\n",
        "        self.idx2token = {idx: token for token, idx in self.token2idx.items()}\n",
        "        \n",
        "        # Convert tokens to indexes\n",
        "        df['indexed_tokens'] = df.tokens.progress_apply(\n",
        "            lambda doc: [self.token2idx[token] for token in doc],\n",
        "        )\n",
        "        \n",
        "        # Build BoW vector\n",
        "        df['bow_vector'] = df.indexed_tokens.progress_apply(\n",
        "            build_bow_vector, args=(self.idx2token,)\n",
        "        )\n",
        "        \n",
        "        # Build TF-IDF vector\n",
        "        vectorizer = TfidfVectorizer(\n",
        "            analyzer='word',\n",
        "            tokenizer=lambda doc: doc,\n",
        "            preprocessor=lambda doc: doc,\n",
        "            token_pattern=None,\n",
        "        )\n",
        "        vectors = vectorizer.fit_transform(df.tokens).toarray()\n",
        "        df['tfidf_vector'] = [vector.tolist() for vector in vectors]\n",
        "        \n",
        "        self.text = df.review.tolist()\n",
        "        self.sequences = df.indexed_tokens.tolist()\n",
        "        self.bow_vector = df.bow_vector.tolist()\n",
        "        self.tfidf_vector = df.tfidf_vector.tolist()\n",
        "        self.targets = df.label.tolist()\n",
        "    \n",
        "    def __getitem__(self, i):\n",
        "        return (\n",
        "            self.sequences[i],\n",
        "            self.bow_vector[i],\n",
        "            self.tfidf_vector[i],\n",
        "            self.targets[i],\n",
        "            self.text[i],\n",
        "        )\n",
        "    \n",
        "    def __len__(self):\n",
        "        return len(self.targets)"
      ],
      "execution_count": 0,
      "outputs": []
    },
    {
      "cell_type": "code",
      "metadata": {
        "id": "83LQluRZlypK",
        "colab_type": "code",
        "colab": {
          "base_uri": "https://localhost:8080/",
          "height": 119
        },
        "outputId": "b4118b0d-911a-4aa7-b197-1e977cedb529"
      },
      "source": [
        "dataset = ImdbDataset(DATA_PATH, max_vocab=MAX_VOCAB, max_len=MAX_LEN )"
      ],
      "execution_count": 23,
      "outputs": [
        {
          "output_type": "stream",
          "text": [
            "(62155, 2)\n"
          ],
          "name": "stdout"
        },
        {
          "output_type": "stream",
          "text": [
            "100%|██████████| 62155/62155 [00:01<00:00, 41905.45it/s]\n",
            "100%|██████████| 62155/62155 [00:06<00:00, 9099.20it/s]\n",
            "100%|██████████| 62155/62155 [00:00<00:00, 504724.89it/s]\n",
            "100%|██████████| 62154/62154 [00:01<00:00, 59126.60it/s]\n",
            "100%|██████████| 62154/62154 [00:02<00:00, 26939.61it/s]\n"
          ],
          "name": "stderr"
        }
      ]
    },
    {
      "cell_type": "markdown",
      "metadata": {
        "id": "CBJ85OBKlypY",
        "colab_type": "text"
      },
      "source": [
        "**A sample of processed text**"
      ]
    },
    {
      "cell_type": "code",
      "metadata": {
        "id": "plNFjaWSNelV",
        "colab_type": "code",
        "colab": {
          "base_uri": "https://localhost:8080/",
          "height": 275
        },
        "outputId": "ccb765be-01a7-442c-810d-7aadd970afbd"
      },
      "source": [
        "print('Number of records:', len(dataset), '\\n')\n",
        "\n",
        "import random\n",
        "random_idx = random.randint(0,len(dataset)-1)\n",
        "print('index:', random_idx, '\\n')\n",
        "sample_seq, bow_vector, tfidf_vector, sample_target, sample_text = dataset[random_idx]\n",
        "print(sample_text, '\\n')\n",
        "print(sample_seq, '\\n')\n",
        "print('BoW vector size:', len(bow_vector), '\\n')\n",
        "print('TF-IDF vector size:', len(tfidf_vector), '\\n')\n",
        "print('Sentiment:', sample_target, '\\n')"
      ],
      "execution_count": 25,
      "outputs": [
        {
          "output_type": "stream",
          "text": [
            "Number of records: 62154 \n",
            "\n",
            "index: 42463 \n",
            "\n",
            "This movie makes me want to fall in love all over again!I am naming my next daughter \"Adelaide\". Just so that someone who sings like Ol Blue eyes can swoon her one day, and feel the butterflies I felt hearing it sung, and it wasn't even to me! I give it a 9/10 \n",
            "\n",
            "[561, 521, 936, 319, 516, 1, 570, 578, 209, 1, 789, 776, 504, 1, 101, 313, 1, 599, 211, 332, 1, 333, 408, 776, 939, 294, 382, 1] \n",
            "\n",
            "BoW vector size: 990 \n",
            "\n",
            "TF-IDF vector size: 990 \n",
            "\n",
            "Sentiment: 1 \n",
            "\n"
          ],
          "name": "stdout"
        }
      ]
    },
    {
      "cell_type": "markdown",
      "metadata": {
        "colab_type": "text",
        "id": "KtZ6WBqXQlb3"
      },
      "source": [
        "**Tokenization**\n",
        "\n",
        "\n",
        "Tokenization is the process by which big quantity of text is divided into smaller parts called tokens.\n",
        "Natural language processing is used for building applications such as Text classification, intelligent chatbot,\n",
        "sentimental analysis, language translation, etc. It becomes vital to understand the pattern in the text to achieve\n",
        "the above-stated purpose. These tokens are very useful for finding such patterns as well as is considered as a \n",
        "base step for stemming and lemmatization.\n"
      ]
    },
    {
      "cell_type": "markdown",
      "metadata": {
        "id": "IKsZLeZSlypn",
        "colab_type": "text"
      },
      "source": [
        "**Stemming**\n",
        "\n",
        "Stemming algorithms work by cutting off the end or the beginning of the word, taking into account a list of common prefixes and suffixes that can be found in an inflected word. This indiscriminate cutting can be successful in some occasions, but not always, and that is why we affirm that this approach presents some limitations. Below we illustrate the method with examples in both English and Spanish (It requires knowledge of suffix and prefix)\n",
        "\n",
        "![stemming](https://user-images.githubusercontent.com/54467567/68964605-6aba2500-079f-11ea-9144-6e4c5b43cc79.PNG)\n",
        "\n",
        "reference : https://blog.bitext.com/what-is-the-difference-between-stemming-and-lemmatization/"
      ]
    },
    {
      "cell_type": "markdown",
      "metadata": {
        "id": "dUyHxLnnlyp8",
        "colab_type": "text"
      },
      "source": [
        "**Lemmatization**\n",
        "\n",
        "Lemmatization, on the other hand, takes into consideration the morphological analysis of the words. To do so, it is necessary to have detailed dictionaries which the algorithm can look through to link the form back to its lemma. See how it works with the same example words.(It requires the complete dictionary of the language)\n",
        "![lemma](https://user-images.githubusercontent.com/54467567/68964888-13688480-07a0-11ea-8745-578d07bd186f.PNG)\n",
        "\n",
        "reference : https://blog.bitext.com/what-is-the-difference-between-stemming-and-lemmatization/"
      ]
    },
    {
      "cell_type": "markdown",
      "metadata": {
        "colab_type": "text",
        "id": "jerF8DE7RgMv"
      },
      "source": [
        "**TF-IDF**\n",
        "\n",
        "Term-Frequency and Inverse Document Frequency is the process of creating numeric values for each of the text terms and assigning proper weigts as per the relevance of the word in the documents. It is calculated as\n",
        "  \n",
        "\n",
        "$$\\text{tf-idf}(t,d)=\\text{tf (t,d)}\\times \\text{idf}(t,d)$$\n",
        "\n",
        "\n",
        "where $$\\text{tf (t,d)}$$ is frequency distribution of each word in the document. it creates a sparse vector with the index of the word and frequency/count of the word"
      ]
    },
    {
      "cell_type": "markdown",
      "metadata": {
        "id": "PmNwiq9lRuP6",
        "colab_type": "text"
      },
      "source": [
        "# Spliting into training & validation"
      ]
    },
    {
      "cell_type": "code",
      "metadata": {
        "id": "osR1dvTLRo-v",
        "colab_type": "code",
        "colab": {}
      },
      "source": [
        "def split_train_valid_test(corpus, valid_ratio=0.1, test_ratio=0.1):\n",
        "    \"\"\"Split dataset into train, validation, and test.\"\"\"\n",
        "    test_length = int(len(corpus) * test_ratio)\n",
        "    valid_length = int(len(corpus) * valid_ratio)\n",
        "    train_length = len(corpus) - valid_length - test_length\n",
        "    return random_split(\n",
        "        corpus, lengths=[train_length, valid_length, test_length],\n",
        "    )"
      ],
      "execution_count": 0,
      "outputs": []
    },
    {
      "cell_type": "code",
      "metadata": {
        "id": "0Ob2mOJOSXpX",
        "colab_type": "code",
        "colab": {
          "base_uri": "https://localhost:8080/",
          "height": 34
        },
        "outputId": "5a131656-4fa7-4851-a43a-f6065afd17bc"
      },
      "source": [
        "train_dataset, valid_dataset, test_dataset = split_train_valid_test(\n",
        "    dataset, valid_ratio=0.05, test_ratio=0.05)\n",
        "len(train_dataset), len(valid_dataset), len(test_dataset)"
      ],
      "execution_count": 29,
      "outputs": [
        {
          "output_type": "execute_result",
          "data": {
            "text/plain": [
              "(55940, 3107, 3107)"
            ]
          },
          "metadata": {
            "tags": []
          },
          "execution_count": 29
        }
      ]
    },
    {
      "cell_type": "code",
      "metadata": {
        "id": "FnTHnunfSzv3",
        "colab_type": "code",
        "colab": {}
      },
      "source": [
        "#creating PyTorch tensor for train,test & validate\n",
        "#based on the batch size\n",
        "BATCH_SIZE = 528\n",
        "\n",
        "def collate(batch):\n",
        "    seq = [item[0] for item in batch]\n",
        "    bow = [item[1] for item in batch]\n",
        "    tfidf = [item[2] for item in batch]\n",
        "    target = torch.LongTensor([item[3] for item in batch])\n",
        "    text = [item[4] for item in batch]\n",
        "    return seq, bow, tfidf, target, text\n",
        "\n",
        "train_loader = DataLoader(train_dataset, batch_size=BATCH_SIZE, collate_fn=collate)\n",
        "valid_loader = DataLoader(valid_dataset, batch_size=BATCH_SIZE, collate_fn=collate)\n",
        "test_loader = DataLoader(test_dataset, batch_size=BATCH_SIZE, collate_fn=collate)"
      ],
      "execution_count": 0,
      "outputs": []
    },
    {
      "cell_type": "markdown",
      "metadata": {
        "id": "wMa1_iZDXUwk",
        "colab_type": "text"
      },
      "source": [
        "# BAG OF WORD MODEL USING PYTORCH\n",
        "![pytorch](https://user-images.githubusercontent.com/54467567/74287177-f4ba5100-4cee-11ea-9505-f79f3c528225.png)"
      ]
    },
    {
      "cell_type": "markdown",
      "metadata": {
        "id": "w15g6JVNWnHp",
        "colab_type": "text"
      },
      "source": [
        "\n",
        "NEURAL NETWORK MODEL\n",
        "\n",
        "Layer 1 affine: $$x_1 = W_1 X + b_1$$\n",
        "Layer 1 activation: $$h_1 = Relu(x_1)$$\n",
        "Layer 2 affine: $$x_2 = W_2 h_1 + b_2$$\n",
        "output: $$p = softmax(x_2)$$\n",
        "Loss: $$L = −(ylog(p)+(1−y)log(1−p))$$\n",
        "Gradient: \n",
        "$$\\frac{\\partial }{\\partial W_1}L(W_1, b_1, W_2, b_2) = \\frac{\\partial L}{\\partial p}\\frac{\\partial p}{\\partial x_2}\\frac{\\partial x_2}{\\partial h_1}\\frac{\\partial h_1}{\\partial x_1}\\frac{\\partial x_1}{\\partial W_1}$$\n",
        "\n",
        "Parameter update:\n",
        "$$W_1 = W_1 - \\alpha \\frac{\\partial L}{\\partial W_1}$$"
      ]
    },
    {
      "cell_type": "code",
      "metadata": {
        "id": "8BMG8urkW2UH",
        "colab_type": "code",
        "colab": {}
      },
      "source": [
        "class FeedfowardTextClassifier(nn.Module):\n",
        "    def __init__(self, device, vocab_size, hidden1, hidden2, num_labels, batch_size):\n",
        "        super(FeedfowardTextClassifier, self).__init__()\n",
        "        self.device = device\n",
        "        self.batch_size = batch_size\n",
        "        self.fc1 = nn.Linear(vocab_size, hidden1)\n",
        "        self.fc2 = nn.Linear(hidden1, hidden2)\n",
        "        self.fc3 = nn.Linear(hidden2, num_labels)\n",
        "    \n",
        "    def forward(self, x):\n",
        "        batch_size = len(x)\n",
        "        if batch_size != self.batch_size:\n",
        "            self.batch_size = batch_size\n",
        "        x = torch.FloatTensor(x)\n",
        "        x = F.relu(self.fc1(x))\n",
        "        x = F.relu(self.fc2(x))\n",
        "        return torch.sigmoid(self.fc3(x))\n"
      ],
      "execution_count": 0,
      "outputs": []
    },
    {
      "cell_type": "code",
      "metadata": {
        "id": "KzJZn2W_Y715",
        "colab_type": "code",
        "colab": {}
      },
      "source": [
        "# Define hidden layer size\n",
        "HIDDEN1 = 100 #@param [10, 30, 50, 100, 200, 500] {allow-input: true}\n",
        "HIDDEN2 = 50 #@param [10, 30, 50, 100, 200, 500] {allow-input: true}"
      ],
      "execution_count": 0,
      "outputs": []
    },
    {
      "cell_type": "code",
      "metadata": {
        "id": "RmfjjFR_Xtks",
        "colab_type": "code",
        "colab": {
          "base_uri": "https://localhost:8080/",
          "height": 102
        },
        "outputId": "4957c51f-0d34-4897-94d3-18c13109814c"
      },
      "source": [
        "# Defining Bag of Word Model\n",
        "bow_model = FeedfowardTextClassifier(\n",
        "    vocab_size=len(dataset.token2idx),\n",
        "    hidden1=HIDDEN1,\n",
        "    hidden2=HIDDEN2,\n",
        "    num_labels=2,\n",
        "    device=device,\n",
        "    batch_size=BATCH_SIZE,\n",
        ")\n",
        "bow_model"
      ],
      "execution_count": 39,
      "outputs": [
        {
          "output_type": "execute_result",
          "data": {
            "text/plain": [
              "FeedfowardTextClassifier(\n",
              "  (fc1): Linear(in_features=990, out_features=100, bias=True)\n",
              "  (fc2): Linear(in_features=100, out_features=50, bias=True)\n",
              "  (fc3): Linear(in_features=50, out_features=2, bias=True)\n",
              ")"
            ]
          },
          "metadata": {
            "tags": []
          },
          "execution_count": 39
        }
      ]
    },
    {
      "cell_type": "markdown",
      "metadata": {
        "id": "gnGwfyJ-ZeU9",
        "colab_type": "text"
      },
      "source": [
        "# Creating Training Loop"
      ]
    },
    {
      "cell_type": "code",
      "metadata": {
        "id": "e8d5maOHZVQ8",
        "colab_type": "code",
        "colab": {}
      },
      "source": [
        "# Defining loss\n",
        "LEARNING_RATE = 5e-4\n",
        "criterion = nn.CrossEntropyLoss()\n",
        "optimizer = optim.Adam(\n",
        "    filter(lambda p: p.requires_grad, bow_model.parameters()),\n",
        "    lr=LEARNING_RATE,\n",
        ")\n",
        "scheduler = CosineAnnealingLR(optimizer, 1)"
      ],
      "execution_count": 0,
      "outputs": []
    },
    {
      "cell_type": "code",
      "metadata": {
        "id": "i_ZHe8QTZwRa",
        "colab_type": "code",
        "colab": {}
      },
      "source": [
        "def train_epoch(model, optimizer, train_loader, input_type='bow'):\n",
        "    model.train()\n",
        "    total_loss, total = 0, 0\n",
        "    for seq, bow, tfidf, target, text in train_loader:\n",
        "        if input_type == 'bow':\n",
        "            inputs = bow\n",
        "        if input_type == 'tfidf':\n",
        "            inputs = tfidf\n",
        "        \n",
        "        # Reset gradient\n",
        "        optimizer.zero_grad()\n",
        "        \n",
        "        # Forward pass\n",
        "        output = model(inputs)\n",
        "        \n",
        "        # Compute loss\n",
        "        loss = criterion(output, target)\n",
        "        \n",
        "        # Perform gradient descent, backwards pass\n",
        "        loss.backward()\n",
        "\n",
        "        # Take a step in the right direction\n",
        "        optimizer.step()\n",
        "        scheduler.step()\n",
        "\n",
        "        # Record metrics\n",
        "        total_loss += loss.item()\n",
        "        total += len(target)\n",
        "\n",
        "    return total_loss / total\n",
        "\n",
        "\n",
        "def validate_epoch(model, valid_loader, input_type='bow'):\n",
        "    model.eval()\n",
        "    total_loss, total = 0, 0\n",
        "    with torch.no_grad():\n",
        "        for seq, bow, tfidf, target, text in valid_loader:\n",
        "            if input_type == 'bow':\n",
        "                inputs = bow\n",
        "            if input_type == 'tfidf':\n",
        "                inputs = tfidf\n",
        "\n",
        "            # Forward pass\n",
        "            output = model(inputs)\n",
        "\n",
        "            # Calculate how wrong the model is\n",
        "            loss = criterion(output, target)\n",
        "\n",
        "            # Record metrics\n",
        "            total_loss += loss.item()\n",
        "            total += len(target)\n",
        "\n",
        "    return total_loss / total"
      ],
      "execution_count": 0,
      "outputs": []
    },
    {
      "cell_type": "code",
      "metadata": {
        "id": "VtffGMvuaLGn",
        "colab_type": "code",
        "colab": {
          "base_uri": "https://localhost:8080/",
          "height": 340
        },
        "outputId": "0fd61388-0b8c-41e2-fc8a-8e5b71d0ab0e"
      },
      "source": [
        "# Checking the performance of BOW with early stop criteria for validation loss\n",
        "n_epochs = 0\n",
        "train_losses, valid_losses = [], []\n",
        "while True:\n",
        "    train_loss = train_epoch(bow_model, optimizer, train_loader, input_type='bow')\n",
        "    valid_loss = validate_epoch(bow_model, valid_loader, input_type='bow')\n",
        "    \n",
        "    tqdm.write(\n",
        "        f'epoch #{n_epochs + 1:3d}\\ttrain_loss: {train_loss:.2e}\\tvalid_loss: {valid_loss:.2e}\\n',\n",
        "    )\n",
        "    \n",
        "    # Early stopping if the current valid_loss is greater than the last three valid losses\n",
        "    if len(valid_losses) > 2 and all(valid_loss >= loss for loss in valid_losses[-3:]):\n",
        "        print('Stopping early')\n",
        "        break\n",
        "    \n",
        "    train_losses.append(train_loss)\n",
        "    valid_losses.append(valid_loss)\n",
        "    \n",
        "    n_epochs += 1"
      ],
      "execution_count": 44,
      "outputs": [
        {
          "output_type": "stream",
          "text": [
            "epoch #  1\ttrain_loss: 1.21e-03\tvalid_loss: 1.04e-03\n",
            "\n",
            "epoch #  2\ttrain_loss: 9.27e-04\tvalid_loss: 9.09e-04\n",
            "\n",
            "epoch #  3\ttrain_loss: 8.68e-04\tvalid_loss: 8.87e-04\n",
            "\n",
            "epoch #  4\ttrain_loss: 8.51e-04\tvalid_loss: 8.81e-04\n",
            "\n",
            "epoch #  5\ttrain_loss: 8.43e-04\tvalid_loss: 8.78e-04\n",
            "\n",
            "epoch #  6\ttrain_loss: 8.37e-04\tvalid_loss: 8.77e-04\n",
            "\n",
            "epoch #  7\ttrain_loss: 8.33e-04\tvalid_loss: 8.77e-04\n",
            "\n",
            "epoch #  8\ttrain_loss: 8.29e-04\tvalid_loss: 8.78e-04\n",
            "\n",
            "epoch #  9\ttrain_loss: 8.25e-04\tvalid_loss: 8.78e-04\n",
            "\n",
            "Stopping early\n"
          ],
          "name": "stdout"
        }
      ]
    },
    {
      "cell_type": "code",
      "metadata": {
        "id": "8mc5j0QlapBk",
        "colab_type": "code",
        "colab": {
          "base_uri": "https://localhost:8080/",
          "height": 621
        },
        "outputId": "faf21c88-91ed-49e4-e5ce-a3eee0f89851"
      },
      "source": [
        "# Plotting the performance of the BOW model\n",
        "epoch_ticks = range(1, n_epochs + 1)\n",
        "plt.figure(figsize=(15,10))\n",
        "plt.plot(epoch_ticks, train_losses)\n",
        "plt.plot(epoch_ticks, valid_losses)\n",
        "plt.legend(['Train Loss', 'Valid Loss'])\n",
        "plt.title('Losses') \n",
        "plt.xlabel('Epoch #')\n",
        "plt.ylabel('Loss')\n",
        "plt.xticks(epoch_ticks)\n",
        "plt.show()"
      ],
      "execution_count": 52,
      "outputs": [
        {
          "output_type": "display_data",
          "data": {
            "image/png": "[encoded data removed]",
            "text/plain": [
              "<Figure size 1080x720 with 1 Axes>"
            ]
          },
          "metadata": {
            "tags": []
          }
        }
      ]
    },
    {
      "cell_type": "code",
      "metadata": {
        "id": "vuK56CjRbcEQ",
        "colab_type": "code",
        "colab": {
          "base_uri": "https://localhost:8080/",
          "height": 170
        },
        "outputId": "f38a5981-b1bf-442f-f1e1-8fe802f793c2"
      },
      "source": [
        "# Checking metrics\n",
        "bow_model.eval()\n",
        "test_accuracy, n_examples = 0, 0\n",
        "y_true, y_pred = [], []\n",
        "input_type = 'bow'\n",
        "\n",
        "with torch.no_grad():\n",
        "    for seq, bow, tfidf, target, text in test_loader:\n",
        "        inputs = bow\n",
        "        probs = bow_model(inputs)\n",
        "        if input_type == 'tdidf':\n",
        "            inputs = tfidf\n",
        "            probs = tfidf_model(inputs)\n",
        "        \n",
        "        probs = probs.detach().cpu().numpy()\n",
        "        predictions = np.argmax(probs, axis=1)\n",
        "        target = target.cpu().numpy()\n",
        "        \n",
        "        y_true.extend(predictions)\n",
        "        y_pred.extend(target)\n",
        "        \n",
        "print(classification_report(y_true, y_pred))"
      ],
      "execution_count": 55,
      "outputs": [
        {
          "output_type": "stream",
          "text": [
            "              precision    recall  f1-score   support\n",
            "\n",
            "           0       0.88      0.84      0.86      1639\n",
            "           1       0.83      0.87      0.85      1468\n",
            "\n",
            "    accuracy                           0.86      3107\n",
            "   macro avg       0.86      0.86      0.86      3107\n",
            "weighted avg       0.86      0.86      0.86      3107\n",
            "\n"
          ],
          "name": "stdout"
        }
      ]
    },
    {
      "cell_type": "markdown",
      "metadata": {
        "id": "2E2lyAJsb9hu",
        "colab_type": "text"
      },
      "source": [
        "# Example of the Prediction"
      ]
    },
    {
      "cell_type": "code",
      "metadata": {
        "id": "zeQdVNHeb7QQ",
        "colab_type": "code",
        "colab": {}
      },
      "source": [
        "flatten = lambda x: [sublst for lst in x for sublst in lst]\n",
        "seq_lst, bow_lst, tfidf_lst, target_lst, text_lst = zip(*test_loader)\n",
        "seq_lst, bow_lst, tfidf_lst, target_lst, text_lst = map(flatten, [seq_lst, bow_lst, tfidf_lst, target_lst, text_lst])\n",
        "test_examples = list(zip(seq_lst, bow_lst, tfidf_lst, target_lst, text_lst))\n",
        "\n",
        "def print_random_prediction(model, n=5, input_type='bow'):\n",
        "    to_emoji = lambda x: '😄' if x else '😡'\n",
        "    model.eval()\n",
        "    rows = []\n",
        "    for i in range(n):\n",
        "        with torch.no_grad():\n",
        "            seq, bow, tdidf, target, text = random.choice(test_examples)\n",
        "            target = target.item()\n",
        "            \n",
        "            inputs = bow\n",
        "            if input_type == 'tdidf':\n",
        "                inputs = tfidf\n",
        "\n",
        "            probs = model([inputs])\n",
        "            probs = probs.detach().cpu().numpy()\n",
        "            prediction = np.argmax(probs, axis=1)[0]\n",
        "\n",
        "            predicted = to_emoji(prediction)\n",
        "            actual = to_emoji(target)\n",
        "            \n",
        "            row = f\"\"\"\n",
        "            <tr>\n",
        "            <td>{i+1}&nbsp;</td>\n",
        "            <td>{text}&nbsp;</td>\n",
        "            <td>{predicted}&nbsp;</td>\n",
        "            <td>{actual}&nbsp;</td>\n",
        "            </tr>\n",
        "            \"\"\"\n",
        "            rows.append(row)\n",
        "            \n",
        "    rows_joined = '\\n'.join(rows)\n",
        "    table = f\"\"\"\n",
        "    <table>\n",
        "    <tbody>\n",
        "    <tr>\n",
        "    <td><b>Number</b>&nbsp;</td>\n",
        "    <td><b>Review</b>&nbsp;</td>\n",
        "    <td><b>Predicted</b>&nbsp;</td>\n",
        "    <td><b>Actual</b>&nbsp;</td>\n",
        "    </tr>{rows_joined}\n",
        "    </tbody>\n",
        "    </table>\n",
        "    \"\"\"\n",
        "    display(HTML(table))"
      ],
      "execution_count": 0,
      "outputs": []
    },
    {
      "cell_type": "code",
      "metadata": {
        "id": "GfWal3-QcFRD",
        "colab_type": "code",
        "colab": {
          "base_uri": "https://localhost:8080/",
          "height": 570
        },
        "outputId": "876ea276-8cdd-4a4c-949c-7c2eaa2a99bc"
      },
      "source": [
        "print_random_prediction(bow_model, n=5, input_type='bow')"
      ],
      "execution_count": 61,
      "outputs": [
        {
          "output_type": "display_data",
          "data": {
            "text/html": [
              "\n",
              "    <table>\n",
              "    <tbody>\n",
              "    <tr>\n",
              "    <td><b>Number</b>&nbsp;</td>\n",
              "    <td><b>Review</b>&nbsp;</td>\n",
              "    <td><b>Predicted</b>&nbsp;</td>\n",
              "    <td><b>Actual</b>&nbsp;</td>\n",
              "    </tr>\n",
              "            <tr>\n",
              "            <td>1&nbsp;</td>\n",
              "            <td>The movie Angels of the Universe is a pure masterpiece and it proves once again that you can make a brilliant movie on a low budget, e.g American Beauty and Blair Witch Project. The Director Fridrik ThÃ³r Fridriksson gives the novel Englar alheimsins a new life on the white screen. The movie is a breakthrough in Icelandic film making because it's the biggest and the greatest movie that has been done in Iceland.<br /><br />The music in the film, played by SigurrÃ³s, is very symbolic for the film, it is absolutely brilliant. I recommend everybody who are able to think to go and see this film as soon as possible, you won't be disappointed. I would bet on this film to win the best foreign film award next year Â? all over the globe!&nbsp;</td>\n",
              "            <td>😄&nbsp;</td>\n",
              "            <td>😄&nbsp;</td>\n",
              "            </tr>\n",
              "            \n",
              "\n",
              "            <tr>\n",
              "            <td>2&nbsp;</td>\n",
              "            <td>This movie is really bad. The hero can't play. You see too much that he learned his walking moves by heart. And believe me, he walks a lot. For 45 min, nothing happens. He only walks to places and gets out..... Like if the story was so short that they had to extend it by adding useless and boring \"looks-like-a-suspens\" scenes.<br /><br />Dialogues are very poor. I counted around a lots of \"hello's\" and few \"hang on\" on the 1st part.<br /><br />Blood is orange like the Mercurochrome you put on kid's blisters. And scenes are not following themselves. A bloody neck on a scene, a clean neck on the following.<br /><br />The story could have been improved. Yeah I mean what the hell is the story? <br /><br />Martial arts? Where? Is that martial arts? Watch how hesitant and slow are the moves!!!!! If giving a kick and receiving a punch is called martial arts, then I am Bruce Lee!!!!<br /><br />The only good point I have found is on fight scenes : They don't play with zoom and fast switching scenes that gives you headache in most of action movies.<br /><br />There are plenty of low budget movies that are great. That one was just to make money. Nothing else.&nbsp;</td>\n",
              "            <td>😡&nbsp;</td>\n",
              "            <td>😡&nbsp;</td>\n",
              "            </tr>\n",
              "            \n",
              "\n",
              "            <tr>\n",
              "            <td>3&nbsp;</td>\n",
              "            <td>This movie isn't worth the film it was photographed on. The dialog is flat, filled with clichÃ© overused lines and delivered by amateur actors who sound like their reading a script for the first time. The choppy, shaky, film style is a cheap imitation of the \"The Ring\" style visual effects. The characters do not even act like a normal person would. For example, the character who is looking for her twin sister at her home forces her way through the front door, creeps around the house all frightened and sobbing and she doesn't even once call out her sister's name to see if she is home. What? You would think she had just buried her sister instead of searching for her. Way too many flashbacks to her childhood. Too many unnecessary flashbacks is a typical sign of an amateur director. It is actually funny watching the numerous shots of the woman driving her car down the street, up the driveway, around this corner, over here, over there, oh a side view, now a front view. Enough already. You would think you are watching a TV commercial for the Solaris! Terrible movie. 0 out of 100. I really pity anybody who spent money making this film or to watch it.&nbsp;</td>\n",
              "            <td>😡&nbsp;</td>\n",
              "            <td>😡&nbsp;</td>\n",
              "            </tr>\n",
              "            \n",
              "\n",
              "            <tr>\n",
              "            <td>4&nbsp;</td>\n",
              "            <td>Based on a Ray Bradbury story; a professional photographer(Brian Kerwin)returns to his modest home near a tiny desert town, where most of the citizens wishes he stayed away. A lonely boy(Jonathan Carrasco) latches onto him for the attention; and the two witness the landing of an alien craft in the rocky region of the desert. The aliens turn themselves into the images of townspeople. Kerwin must convince evacuation of the town and falls in love with the young boy's mother(Elizabeth Pena). Acting is pretty shallow; the story line is no worse than some others; this movie leaves you feeling that you got shorted on a decent ending. Supporting cast includes: Howard Morris, Dean Norris and Mickey Jones.&nbsp;</td>\n",
              "            <td>😡&nbsp;</td>\n",
              "            <td>😡&nbsp;</td>\n",
              "            </tr>\n",
              "            \n",
              "\n",
              "            <tr>\n",
              "            <td>5&nbsp;</td>\n",
              "            <td>Imaginative, quick-paced, satirical! Americans do 'zany', but the Brits do 'witty' -- and they love to poke fun at themselves (ahem: unattractive teeth, large lips/nose, 'veddy' common or 'veddy' snobby, obsession with the 'gahden'). Inside jokes for the older folk in the audience, lots of action for the kiddies. Subtle use of devices from other classic films (watch for 'Back to the Future', 'Indiana Jones..', 'Harvey', 'Tremors'.. and more). Also, a nifty 'buddy' film (Gromit is a quiet, but resourceful sidekick). Add brilliant voice work by Bonham-Carter and Fiennes (is it true? the best acting these days is being done in animation?) - enjoy! I saw it with the grandkids. fun time for all. - canuckteach&nbsp;</td>\n",
              "            <td>😄&nbsp;</td>\n",
              "            <td>😄&nbsp;</td>\n",
              "            </tr>\n",
              "            \n",
              "    </tbody>\n",
              "    </table>\n",
              "    "
            ],
            "text/plain": [
              "<IPython.core.display.HTML object>"
            ]
          },
          "metadata": {
            "tags": []
          }
        }
      ]
    }
  ]
}